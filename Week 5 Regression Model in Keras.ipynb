{
 "cells": [
  {
   "cell_type": "markdown",
   "id": "62a8376a",
   "metadata": {},
   "source": [
    "#  Peer-graded Assignment: Build a Regression Model in Keras"
   ]
  },
  {
   "cell_type": "markdown",
   "id": "09cc209c",
   "metadata": {},
   "source": [
    "# Instructions"
   ]
  },
  {
   "cell_type": "markdown",
   "id": "29e40e5b",
   "metadata": {},
   "source": [
    "Use the Keras library to build a neural network with the following:\n",
    "\n",
    "- One hidden layer of 10 nodes, and a ReLU activation function\n",
    "- Use the adam optimizer and the mean squared error  as the loss function."
   ]
  },
  {
   "cell_type": "markdown",
   "id": "c7b15c21",
   "metadata": {},
   "source": [
    "1. Randomly split the data into a training and test sets by holding 30% of the data for testing. You can use the train_test_splithelper function from Scikit-learn.\n",
    "\n",
    "2. Train the model on the training data using 50 epochs.\n",
    "\n",
    "3. Evaluate the model on the test data and compute the mean squared error between the predicted concrete strength and the actual concrete strength. You can use the mean_squared_error function from Scikit-learn.\n",
    "\n",
    "4. Repeat steps 1 - 3, 50 times, i.e., create a list of 50 mean squared errors.\n",
    "\n",
    "5. Report the mean and the standard deviation of the mean squared errors."
   ]
  },
  {
   "cell_type": "markdown",
   "id": "9e9583d8",
   "metadata": {},
   "source": [
    "# Answer"
   ]
  },
  {
   "cell_type": "markdown",
   "id": "80b2e725",
   "metadata": {},
   "source": [
    "We wil start by importing the necessary libraries "
   ]
  },
  {
   "cell_type": "code",
   "execution_count": 14,
   "id": "0c2715d1",
   "metadata": {},
   "outputs": [],
   "source": [
    "import pandas as pd\n",
    "import numpy as np\n",
    "from sklearn.model_selection import train_test_split\n",
    "from sklearn.metrics import mean_squared_error\n",
    "from keras.models import Sequential\n",
    "from keras.layers import Dense"
   ]
  },
  {
   "cell_type": "markdown",
   "id": "557f67b0",
   "metadata": {},
   "source": [
    "Now we are creating One hidden layer of 10 nodes, and a ReLU activation function using Sequential and Dense models of Keras.\n",
    "Using the adam optimizer and the mean squared error as the loss function."
   ]
  },
  {
   "cell_type": "code",
   "execution_count": 15,
   "id": "cc71d48f",
   "metadata": {},
   "outputs": [],
   "source": [
    "def create_one_layer_model(n_cols):\n",
    "    model = Sequential()\n",
    "    model.add(Dense(10, activation='relu', input_shape=(n_cols,)))\n",
    "    model.add(Dense(1))\n",
    "    \n",
    "    model.compile(optimizer='adam', loss='mean_squared_error')\n",
    "    \n",
    "    return model"
   ]
  },
  {
   "cell_type": "markdown",
   "id": "856318cb",
   "metadata": {},
   "source": [
    "Now we are creating a Three Layer Model using Sequential and Dense models of Keras"
   ]
  },
  {
   "cell_type": "code",
   "execution_count": 16,
   "id": "26e12669",
   "metadata": {},
   "outputs": [],
   "source": [
    "def create_three_layer_model(n_cols):\n",
    "    \n",
    "    model = Sequential()\n",
    "    model.add(Dense(10, activation='relu', input_shape=(n_cols,)))\n",
    "    model.add(Dense(10, activation='relu'))\n",
    "    model.add(Dense(10, activation='relu'))\n",
    "    model.add(Dense(1))\n",
    "    \n",
    "    model.compile(optimizer='adam', loss='mean_squared_error')\n",
    "    \n",
    "    return model"
   ]
  },
  {
   "cell_type": "markdown",
   "id": "5f55c718",
   "metadata": {},
   "source": [
    "Now we will randomly split the data into a training and test sets by holding 30% of the data for testing. You can use the train_test_split helper function from Scikit-learn.\n",
    "And also now we will train the model on the training data using 50 epochs."
   ]
  },
  {
   "cell_type": "code",
   "execution_count": 17,
   "id": "161cca99",
   "metadata": {},
   "outputs": [],
   "source": [
    "def split_train_evaluate(data, model, epochs=50, normalize=False):\n",
    "    \n",
    "    df = data.copy()\n",
    "    \n",
    "    y = df.pop('Strength')\n",
    "    X = df.copy()\n",
    "    \n",
    "    if normalize:\n",
    "        X = (X - X.mean()) / X.std()\n",
    "\n",
    "    X_train, X_test, y_train, y_test = train_test_split(X, y, test_size=0.3, shuffle=True)\n",
    "     \n",
    "    model.fit(X_train, y_train, epochs=epochs, verbose=0)\n",
    "    \n",
    "    y_pred = model.predict(X_test)   \n",
    "    score = mean_squared_error(y_test, y_pred)\n",
    "    \n",
    "    return score"
   ]
  },
  {
   "cell_type": "markdown",
   "id": "cb5f28e2",
   "metadata": {},
   "source": [
    "We will now evaluate the model on the test data and compute the mean squared error between the predicted concrete strength and the actual concrete strength. By using the mean_squared_error function from Scikit-learn."
   ]
  },
  {
   "cell_type": "markdown",
   "id": "e94fc402",
   "metadata": {},
   "source": [
    "We will repeat these steps 50 times, i.e., create a list of 50 mean squared errors.\n",
    "And report the mean and the standard deviation of the mean squared errors."
   ]
  },
  {
   "cell_type": "code",
   "execution_count": 18,
   "id": "5b34edc4",
   "metadata": {},
   "outputs": [],
   "source": [
    "def run_model(times=50, epochs=50, normalize=False, three_layer_model=False):\n",
    "    concrete_data = pd.read_csv('https://s3-api.us-geo.objectstorage.softlayer.net/cf-courses-data/CognitiveClass/DL0101EN/labs/data/concrete_data.csv')\n",
    "\n",
    "    mean_squared_errors = np.zeros(times)\n",
    "\n",
    "    n_cols = concrete_data.shape[1] - 1\n",
    "    model = create_three_layer_model(n_cols) if three_layer_model else create_one_layer_model(n_cols)\n",
    "    \n",
    "    for i in range(len(mean_squared_errors)):\n",
    "        mean_squared_errors[i] = split_train_evaluate(concrete_data, model, epochs, normalize)\n",
    "\n",
    "    mse_mean = mean_squared_errors.mean()\n",
    "    mse_std = mean_squared_errors.std()\n",
    "\n",
    "    return f\"After {times} runs the average Mean Squared Error was {mse_mean} and the \\\n",
    "    Standard Deviation was {mse_std}\""
   ]
  },
  {
   "cell_type": "markdown",
   "id": "e5f911f3",
   "metadata": {},
   "source": [
    "# Results Part - A Build a baseline model"
   ]
  },
  {
   "cell_type": "code",
   "execution_count": 19,
   "id": "3041a377",
   "metadata": {},
   "outputs": [
    {
     "name": "stdout",
     "output_type": "stream",
     "text": [
      "10/10 [==============================] - 0s 991us/step\n",
      "10/10 [==============================] - 0s 2ms/step\n",
      "10/10 [==============================] - 0s 667us/step\n",
      "10/10 [==============================] - 0s 884us/step\n",
      "10/10 [==============================] - 0s 1ms/step\n",
      "10/10 [==============================] - 0s 558us/step\n",
      "10/10 [==============================] - 0s 570us/step\n",
      "10/10 [==============================] - 0s 725us/step\n",
      "10/10 [==============================] - 0s 522us/step\n",
      "10/10 [==============================] - 0s 778us/step\n",
      "10/10 [==============================] - 0s 1ms/step\n",
      "10/10 [==============================] - 0s 695us/step\n",
      "10/10 [==============================] - 0s 762us/step\n",
      "10/10 [==============================] - 0s 906us/step\n",
      "10/10 [==============================] - 0s 710us/step\n",
      "10/10 [==============================] - 0s 2ms/step\n",
      "10/10 [==============================] - 0s 666us/step\n",
      "10/10 [==============================] - 0s 623us/step\n",
      "10/10 [==============================] - 0s 667us/step\n",
      "10/10 [==============================] - 0s 666us/step\n",
      "10/10 [==============================] - 0s 889us/step\n",
      "10/10 [==============================] - 0s 888us/step\n",
      "10/10 [==============================] - 0s 258us/step\n",
      "10/10 [==============================] - 0s 2ms/step\n",
      "10/10 [==============================] - 0s 2ms/step\n",
      "10/10 [==============================] - 0s 882us/step\n",
      "10/10 [==============================] - 0s 713us/step\n",
      "10/10 [==============================] - 0s 1ms/step\n",
      "10/10 [==============================] - 0s 967us/step\n",
      "10/10 [==============================] - 0s 796us/step\n",
      "10/10 [==============================] - 0s 982us/step\n",
      "10/10 [==============================] - 0s 694us/step\n",
      "10/10 [==============================] - 0s 1ms/step\n",
      "10/10 [==============================] - 0s 803us/step\n",
      "10/10 [==============================] - 0s 1ms/step\n",
      "10/10 [==============================] - 0s 760us/step\n",
      "10/10 [==============================] - 0s 815us/step\n",
      "10/10 [==============================] - 0s 826us/step\n",
      "10/10 [==============================] - 0s 938us/step\n",
      "10/10 [==============================] - 0s 938us/step\n",
      "10/10 [==============================] - 0s 1ms/step\n",
      "10/10 [==============================] - 0s 1ms/step\n",
      "10/10 [==============================] - 0s 1ms/step\n",
      "10/10 [==============================] - 0s 1ms/step\n",
      "10/10 [==============================] - 0s 693us/step\n",
      "10/10 [==============================] - 0s 973us/step\n",
      "10/10 [==============================] - 0s 846us/step\n",
      "10/10 [==============================] - 0s 693us/step\n",
      "10/10 [==============================] - 0s 1ms/step\n",
      "10/10 [==============================] - 0s 708us/step\n",
      "After 50 runs the average Mean Squared Error was 59.48019608595686 and the     Standard Deviation was 17.43089923104828\n"
     ]
    }
   ],
   "source": [
    "output = run_model()\n",
    "print(output)"
   ]
  },
  {
   "cell_type": "markdown",
   "id": "e0740b68",
   "metadata": {},
   "source": [
    "# Results Part - B Normalize the data"
   ]
  },
  {
   "cell_type": "markdown",
   "id": "c261cdf9",
   "metadata": {},
   "source": [
    "We are repeating Part A but this time we are using a normalized version of the data. One way to normalize the data is by subtracting the mean from the individual predictors and dividing by the standard deviation."
   ]
  },
  {
   "cell_type": "code",
   "execution_count": 20,
   "id": "3c00824d",
   "metadata": {},
   "outputs": [
    {
     "name": "stdout",
     "output_type": "stream",
     "text": [
      "10/10 [==============================] - 0s 1ms/step\n",
      "10/10 [==============================] - 0s 772us/step\n",
      "10/10 [==============================] - 0s 745us/step\n",
      "10/10 [==============================] - 0s 872us/step\n",
      "10/10 [==============================] - 0s 1ms/step\n",
      "10/10 [==============================] - 0s 1ms/step\n",
      "10/10 [==============================] - 0s 764us/step\n",
      "10/10 [==============================] - 0s 696us/step\n",
      "10/10 [==============================] - 0s 778us/step\n",
      "10/10 [==============================] - 0s 840us/step\n",
      "10/10 [==============================] - 0s 1ms/step\n",
      "10/10 [==============================] - 0s 2ms/step\n",
      "10/10 [==============================] - 0s 552us/step\n",
      "10/10 [==============================] - 0s 1ms/step\n",
      "10/10 [==============================] - 0s 766us/step\n",
      "10/10 [==============================] - 0s 1ms/step\n",
      "10/10 [==============================] - 0s 967us/step\n",
      "10/10 [==============================] - 0s 826us/step\n",
      "10/10 [==============================] - 0s 861us/step\n",
      "10/10 [==============================] - 0s 1ms/step\n",
      "10/10 [==============================] - 0s 1ms/step\n",
      "10/10 [==============================] - 0s 997us/step\n",
      "10/10 [==============================] - 0s 1ms/step\n",
      "10/10 [==============================] - 0s 934us/step\n",
      "10/10 [==============================] - 0s 877us/step\n",
      "10/10 [==============================] - 0s 744us/step\n",
      "10/10 [==============================] - 0s 1ms/step\n",
      "10/10 [==============================] - 0s 1ms/step\n",
      "10/10 [==============================] - 0s 720us/step\n",
      "10/10 [==============================] - 0s 767us/step\n",
      "10/10 [==============================] - 0s 863us/step\n",
      "10/10 [==============================] - 0s 1ms/step\n",
      "10/10 [==============================] - 0s 1ms/step\n",
      "10/10 [==============================] - 0s 1ms/step\n",
      "10/10 [==============================] - 0s 712us/step\n",
      "10/10 [==============================] - 0s 856us/step\n",
      "10/10 [==============================] - 0s 711us/step\n",
      "10/10 [==============================] - 0s 944us/step\n",
      "10/10 [==============================] - 0s 996us/step\n",
      "10/10 [==============================] - 0s 1ms/step\n",
      "10/10 [==============================] - 0s 522us/step\n",
      "10/10 [==============================] - 0s 952us/step\n",
      "10/10 [==============================] - 0s 765us/step\n",
      "10/10 [==============================] - 0s 2ms/step\n",
      "10/10 [==============================] - 0s 1ms/step\n",
      "10/10 [==============================] - 0s 786us/step\n",
      "10/10 [==============================] - 0s 1ms/step\n",
      "10/10 [==============================] - 0s 993us/step\n",
      "10/10 [==============================] - 0s 638us/step\n",
      "10/10 [==============================] - 0s 1ms/step\n",
      "After 50 runs the average Mean Squared Error was 108.64486829341254 and the     Standard Deviation was 20.11558056598766\n"
     ]
    }
   ],
   "source": [
    "output = run_model(normalize=True)\n",
    "print(output)"
   ]
  },
  {
   "cell_type": "markdown",
   "id": "8417957f",
   "metadata": {},
   "source": [
    "# Results Part - C Increate the number of epochs"
   ]
  },
  {
   "cell_type": "markdown",
   "id": "3d552ed0",
   "metadata": {},
   "source": [
    "We are repeating Part B but using 100 epochs this time for training."
   ]
  },
  {
   "cell_type": "code",
   "execution_count": 21,
   "id": "268c07f4",
   "metadata": {
    "scrolled": false
   },
   "outputs": [
    {
     "name": "stdout",
     "output_type": "stream",
     "text": [
      "10/10 [==============================] - 0s 735us/step\n",
      "10/10 [==============================] - 0s 2ms/step\n",
      "10/10 [==============================] - 0s 1ms/step\n",
      "10/10 [==============================] - 0s 817us/step\n",
      "10/10 [==============================] - 0s 1ms/step\n",
      "10/10 [==============================] - 0s 664us/step\n",
      "10/10 [==============================] - 0s 730us/step\n",
      "10/10 [==============================] - 0s 808us/step\n",
      "10/10 [==============================] - 0s 694us/step\n",
      "10/10 [==============================] - 0s 1ms/step\n",
      "10/10 [==============================] - 0s 1ms/step\n",
      "10/10 [==============================] - 0s 848us/step\n",
      "10/10 [==============================] - 0s 866us/step\n",
      "10/10 [==============================] - 0s 1ms/step\n",
      "10/10 [==============================] - 0s 819us/step\n",
      "10/10 [==============================] - 0s 2ms/step\n",
      "10/10 [==============================] - 0s 812us/step\n",
      "10/10 [==============================] - 0s 744us/step\n",
      "10/10 [==============================] - 0s 745us/step\n",
      "10/10 [==============================] - 0s 1ms/step\n",
      "10/10 [==============================] - 0s 2ms/step\n",
      "10/10 [==============================] - 0s 1ms/step\n",
      "10/10 [==============================] - 0s 1ms/step\n",
      "10/10 [==============================] - 0s 1ms/step\n",
      "10/10 [==============================] - 0s 988us/step\n",
      "10/10 [==============================] - 0s 2ms/step\n",
      "10/10 [==============================] - 0s 676us/step\n",
      "10/10 [==============================] - 0s 1ms/step\n",
      "10/10 [==============================] - 0s 830us/step\n",
      "10/10 [==============================] - 0s 1ms/step\n",
      "10/10 [==============================] - 0s 590us/step\n",
      "10/10 [==============================] - 0s 1ms/step\n",
      "10/10 [==============================] - 0s 852us/step\n",
      "10/10 [==============================] - 0s 905us/step\n",
      "10/10 [==============================] - 0s 638us/step\n",
      "10/10 [==============================] - 0s 687us/step\n",
      "10/10 [==============================] - 0s 760us/step\n",
      "10/10 [==============================] - 0s 1ms/step\n",
      "10/10 [==============================] - 0s 889us/step\n",
      "10/10 [==============================] - 0s 1ms/step\n",
      "10/10 [==============================] - 0s 974us/step\n",
      "10/10 [==============================] - 0s 772us/step\n",
      "10/10 [==============================] - 0s 748us/step\n",
      "10/10 [==============================] - 0s 778us/step\n",
      "10/10 [==============================] - 0s 778us/step\n",
      "10/10 [==============================] - 0s 713us/step\n",
      "10/10 [==============================] - 0s 678us/step\n",
      "10/10 [==============================] - 0s 629us/step\n",
      "10/10 [==============================] - 0s 653us/step\n",
      "10/10 [==============================] - 0s 662us/step\n",
      "After 50 runs the average Mean Squared Error was 33.273851116527005 and the     Standard Deviation was 26.132623356112273\n"
     ]
    }
   ],
   "source": [
    "output = run_model(normalize=True, epochs=100)\n",
    "print(output)"
   ]
  },
  {
   "cell_type": "markdown",
   "id": "6fe56a2c",
   "metadata": {},
   "source": [
    "# Results Part - D Increase the number of hidden layers"
   ]
  },
  {
   "cell_type": "markdown",
   "id": "25f9686f",
   "metadata": {},
   "source": [
    "Repeating part B but using a neural network with the following instead:\n",
    "- Three hidden layers, each of 10 nodes and ReLU activation function."
   ]
  },
  {
   "cell_type": "code",
   "execution_count": 23,
   "id": "e7e68ffe",
   "metadata": {},
   "outputs": [
    {
     "name": "stdout",
     "output_type": "stream",
     "text": [
      "10/10 [==============================] - 0s 1ms/step\n",
      "10/10 [==============================] - 0s 748us/step\n",
      "10/10 [==============================] - 0s 2ms/step\n",
      "10/10 [==============================] - 0s 2ms/step\n",
      "10/10 [==============================] - 0s 666us/step\n",
      "10/10 [==============================] - 0s 723us/step\n",
      "10/10 [==============================] - 0s 754us/step\n",
      "10/10 [==============================] - 0s 562us/step\n",
      "10/10 [==============================] - 0s 667us/step\n",
      "10/10 [==============================] - 0s 648us/step\n",
      "10/10 [==============================] - 0s 611us/step\n",
      "10/10 [==============================] - 0s 556us/step\n",
      "10/10 [==============================] - 0s 1ms/step\n",
      "10/10 [==============================] - 0s 799us/step\n",
      "10/10 [==============================] - 0s 845us/step\n",
      "10/10 [==============================] - 0s 1ms/step\n",
      "10/10 [==============================] - 0s 715us/step\n",
      "10/10 [==============================] - 0s 700us/step\n",
      "10/10 [==============================] - 0s 778us/step\n",
      "10/10 [==============================] - 0s 2ms/step\n",
      "10/10 [==============================] - 0s 916us/step\n",
      "10/10 [==============================] - 0s 1ms/step\n",
      "10/10 [==============================] - 0s 1ms/step\n",
      "10/10 [==============================] - 0s 2ms/step\n",
      "10/10 [==============================] - 0s 748us/step\n",
      "10/10 [==============================] - 0s 1ms/step\n",
      "10/10 [==============================] - 0s 667us/step\n",
      "10/10 [==============================] - 0s 762us/step\n",
      "10/10 [==============================] - 0s 1ms/step\n",
      "10/10 [==============================] - 0s 904us/step\n",
      "10/10 [==============================] - 0s 0s/step\n",
      "10/10 [==============================] - 0s 612us/step\n",
      "10/10 [==============================] - 0s 802us/step\n",
      "10/10 [==============================] - 0s 777us/step\n",
      "10/10 [==============================] - 0s 549us/step\n",
      "10/10 [==============================] - 0s 663us/step\n",
      "10/10 [==============================] - 0s 996us/step\n",
      "10/10 [==============================] - 0s 897us/step\n",
      "10/10 [==============================] - 0s 810us/step\n",
      "10/10 [==============================] - 0s 778us/step\n",
      "10/10 [==============================] - 0s 1ms/step\n",
      "10/10 [==============================] - 0s 916us/step\n",
      "10/10 [==============================] - 0s 1ms/step\n",
      "10/10 [==============================] - 0s 890us/step\n",
      "10/10 [==============================] - 0s 1ms/step\n",
      "10/10 [==============================] - 0s 782us/step\n",
      "10/10 [==============================] - 0s 913us/step\n",
      "10/10 [==============================] - 0s 556us/step\n",
      "10/10 [==============================] - 0s 707us/step\n",
      "10/10 [==============================] - 0s 1ms/step\n",
      "After 50 runs the average Mean Squared Error was 35.41509640540951 and the     Standard Deviation was 24.93765719187196\n"
     ]
    }
   ],
   "source": [
    "output = run_model(normalize=True, epochs=50, three_layer_model=True)\n",
    "print(output)"
   ]
  }
 ],
 "metadata": {
  "kernelspec": {
   "display_name": "Python 3 (ipykernel)",
   "language": "python",
   "name": "python3"
  },
  "language_info": {
   "codemirror_mode": {
    "name": "ipython",
    "version": 3
   },
   "file_extension": ".py",
   "mimetype": "text/x-python",
   "name": "python",
   "nbconvert_exporter": "python",
   "pygments_lexer": "ipython3",
   "version": "3.9.13"
  }
 },
 "nbformat": 4,
 "nbformat_minor": 5
}
